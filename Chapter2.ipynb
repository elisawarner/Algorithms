{
 "cells": [
  {
   "cell_type": "markdown",
   "metadata": {},
   "source": [
    "# Chapter 2"
   ]
  },
  {
   "cell_type": "markdown",
   "metadata": {},
   "source": [
    "2.1 Insertion Sort"
   ]
  },
  {
   "cell_type": "code",
   "execution_count": 132,
   "metadata": {},
   "outputs": [],
   "source": [
    "import unittest\n",
    "import time\n",
    "import random"
   ]
  },
  {
   "cell_type": "code",
   "execution_count": 82,
   "metadata": {},
   "outputs": [],
   "source": [
    "\"\"\"INSERT SORT:\n",
    "A : sequence to be sorted\n",
    "\"\"\"\n",
    "def insert_sort(A):\n",
    "    t = time.time()\n",
    "    for j in range(1,len(A)):\n",
    "            key = A[j]\n",
    "            \n",
    "            # insert A[j] into the sorted sequence A[0,...,j-1]\n",
    "            i = j - 1\n",
    "            \n",
    "            while i >= 0 and A[i] > key:\n",
    "                A[i+1] = A[i]\n",
    "                i = i - 1\n",
    "            A[i+1] = key\n",
    "    elapsed = time.time() - t\n",
    "    print('Time (s):', elapsed)\n",
    "    return A"
   ]
  },
  {
   "cell_type": "markdown",
   "metadata": {},
   "source": [
    "2.2 Merge Sort"
   ]
  },
  {
   "cell_type": "code",
   "execution_count": 83,
   "metadata": {},
   "outputs": [],
   "source": [
    "import numpy as np"
   ]
  },
  {
   "cell_type": "code",
   "execution_count": 84,
   "metadata": {},
   "outputs": [],
   "source": [
    "\"\"\"MERGE SORT:\n",
    "A : sequence to be sorted\n",
    "p, q, r : indices into the array such that p < q < r\n",
    "\n",
    "ASSUMPTIONS:\n",
    "A[p..q] and A[q+1..r] are in sorted order\n",
    "\n",
    "\"\"\"\n",
    "\n",
    "def merge_sort(A,p,q,r):\n",
    "    t = time.time()\n",
    "    n1 = q - p + 1\n",
    "    n2 = r - q\n",
    "    \n",
    "    L = np.zeros(n1+1)\n",
    "    R = np.zeros(n2+1)\n",
    "    \n",
    "    for i in range(n1):\n",
    "        L[i] = A[p + i]\n",
    "\n",
    "    for j in range(n2):\n",
    "        R[j] = A[q + j + 1]\n",
    "\n",
    "    L[n1] = np.inf\n",
    "    R[n2] = np.inf\n",
    "    \n",
    "    i = 0\n",
    "    j = 0\n",
    "    \n",
    "    for k in range(p,r+1):\n",
    "        if L[i] <= R[j]:\n",
    "            A[k] = L[i]\n",
    "            i = i + 1\n",
    "        else:\n",
    "            A[k] = R[j]\n",
    "            j = j + 1\n",
    "    elapsed = time.time() - t\n",
    "    print('Time (s):', elapsed)\n",
    "    return A"
   ]
  },
  {
   "cell_type": "markdown",
   "metadata": {},
   "source": [
    "Time Test"
   ]
  },
  {
   "cell_type": "code",
   "execution_count": 154,
   "metadata": {},
   "outputs": [
    {
     "name": "stdout",
     "output_type": "stream",
     "text": [
      "Time (s): 0.0005588531494140625\n"
     ]
    }
   ],
   "source": [
    "seq = random.sample(range(1, 1000), 100)\n",
    "sort1 = insert_sort(seq)"
   ]
  },
  {
   "cell_type": "code",
   "execution_count": 155,
   "metadata": {},
   "outputs": [
    {
     "name": "stdout",
     "output_type": "stream",
     "text": [
      "Time (s): 2.574920654296875e-05\n",
      "[1.0, 2.0, 2.0, 3.0, 4.0, 5.0, 6.0, 7.0]\n"
     ]
    }
   ],
   "source": [
    "A = [2,4,5,7,1,2,3,6]\n",
    "sort2 = merge_sort(A,0,3,7)\n",
    "print(sort2)"
   ]
  },
  {
   "cell_type": "markdown",
   "metadata": {},
   "source": [
    "Unit Tests"
   ]
  },
  {
   "cell_type": "code",
   "execution_count": 156,
   "metadata": {},
   "outputs": [
    {
     "name": "stderr",
     "output_type": "stream",
     "text": [
      "test_upper (__main__.Part1) ... ok\n",
      "test_sort2 (__main__.Part2) ... ok\n",
      "test_sort1 (__main__.TestNotebook) ... ok\n",
      "test_sort2 (__main__.TestNotebook) ... ok\n",
      "test_upper (__main__.TestPart1) ... "
     ]
    },
    {
     "name": "stdout",
     "output_type": "stream",
     "text": [
      "Time (s): 5.0067901611328125e-05\n",
      "Time (s): 6.198883056640625e-06\n",
      "Time (s): 1.5020370483398438e-05\n"
     ]
    },
    {
     "name": "stderr",
     "output_type": "stream",
     "text": [
      "ok\n",
      "\n",
      "----------------------------------------------------------------------\n",
      "Ran 5 tests in 0.004s\n",
      "\n",
      "OK\n"
     ]
    },
    {
     "data": {
      "text/plain": [
       "<unittest.main.TestProgram at 0x1178ab668>"
      ]
     },
     "execution_count": 156,
     "metadata": {},
     "output_type": "execute_result"
    }
   ],
   "source": [
    "class TestNotebook(unittest.TestCase):\n",
    "\n",
    "    def test_sort1(self):\n",
    "        seq = [5,2,4,6,1,3,8,7]\n",
    "        self.assertEqual(insert_sort(seq), [1,2,3,4,5,6,7,8])\n",
    "    def test_sort2(self):\n",
    "        A = [2,4,5,7,1,2,3,6]\n",
    "        self.assertEqual(merge_sort(A,0,3,7), [1.0, 2.0, 2.0, 3.0, 4.0, 5.0, 6.0, 7.0])\n",
    "\n",
    "\n",
    "unittest.main(argv=[''], verbosity=2, exit=False)"
   ]
  },
  {
   "cell_type": "code",
   "execution_count": null,
   "metadata": {},
   "outputs": [],
   "source": []
  }
 ],
 "metadata": {
  "kernelspec": {
   "display_name": "Python 3",
   "language": "python",
   "name": "python3"
  },
  "language_info": {
   "codemirror_mode": {
    "name": "ipython",
    "version": 3
   },
   "file_extension": ".py",
   "mimetype": "text/x-python",
   "name": "python",
   "nbconvert_exporter": "python",
   "pygments_lexer": "ipython3",
   "version": "3.7.2"
  }
 },
 "nbformat": 4,
 "nbformat_minor": 4
}
